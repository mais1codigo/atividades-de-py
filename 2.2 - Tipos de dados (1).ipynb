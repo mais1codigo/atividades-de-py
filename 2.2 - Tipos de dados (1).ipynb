{
  "metadata": {
    "kernelspec": {
      "name": "python",
      "display_name": "Python (Pyodide)",
      "language": "python"
    },
    "language_info": {
      "codemirror_mode": {
        "name": "python",
        "version": 3
      },
      "file_extension": ".py",
      "mimetype": "text/x-python",
      "name": "python",
      "nbconvert_exporter": "python",
      "pygments_lexer": "ipython3",
      "version": "3.8"
    }
  },
  "nbformat_minor": 4,
  "nbformat": 4,
  "cells": [
    {
      "cell_type": "code",
      "source": "varia1 = 5\nvaria2 = 2\n\nprint(type(varia1))\nprint(type(varia2))\n\nvaria3 = varia1 / varia2\n\nprint (varia3)\nprint(type(varia3))",
      "metadata": {
        "trusted": true
      },
      "outputs": [
        {
          "name": "stdout",
          "text": "<class 'int'>\n<class 'int'>\n2.5\n<class 'float'>\n",
          "output_type": "stream"
        }
      ],
      "execution_count": 14
    },
    {
      "cell_type": "code",
      "source": "resultante =  \"o resultado é\"\nvalor1 = 10\nvalor2 = 3.5\nsoma1 = valor1 + valor2\n\nprint (resultante)\nprint (valor1)\nprint (valor2)\nprint (soma1)",
      "metadata": {
        "trusted": true
      },
      "outputs": [
        {
          "name": "stdout",
          "text": "o resultado é\n10\n3.5\n13.5\n",
          "output_type": "stream"
        }
      ],
      "execution_count": 11
    },
    {
      "cell_type": "code",
      "source": "v1 = 10\nv2 = 20\naux = v1\nv1 = v2\nv2 = aux\nprint(v1, v2)",
      "metadata": {
        "trusted": true
      },
      "outputs": [
        {
          "name": "stdout",
          "text": "20 10\n",
          "output_type": "stream"
        }
      ],
      "execution_count": 12
    },
    {
      "cell_type": "code",
      "source": "juros = 1.01\nsaldo = 500.0\n\nrendimento1 = saldo * juros\nrendimento2 = rendimento1 * juros\nrendimento3 = rendimento2 * juros\n\nprint(\"Após 3 meses meu novo saldo é\")\nprint(rendimento3)",
      "metadata": {
        "trusted": true
      },
      "outputs": [
        {
          "name": "stdout",
          "text": "Após 3 meses meu novo saldo é\n515.1505\n",
          "output_type": "stream"
        }
      ],
      "execution_count": 13
    },
    {
      "cell_type": "code",
      "source": "juros = 1.01\nsaldo = 500.0\n\nsaldo *= juros\nsaldo *= juros\nsaldo *= juros\n\nprint(\"Após 3 meses meu novo saldo é\")\nprint(rendimento3)\n",
      "metadata": {
        "trusted": true
      },
      "outputs": [
        {
          "name": "stdout",
          "text": "Após 3 meses meu novo saldo é\n515.1505\n",
          "output_type": "stream"
        }
      ],
      "execution_count": 15
    },
    {
      "cell_type": "code",
      "source": "",
      "metadata": {
        "trusted": true
      },
      "outputs": [],
      "execution_count": null
    }
  ]
}