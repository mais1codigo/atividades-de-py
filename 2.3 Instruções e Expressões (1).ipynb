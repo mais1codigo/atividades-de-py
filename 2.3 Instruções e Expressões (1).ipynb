{
  "metadata": {
    "kernelspec": {
      "name": "python",
      "display_name": "Python (Pyodide)",
      "language": "python"
    },
    "language_info": {
      "codemirror_mode": {
        "name": "python",
        "version": 3
      },
      "file_extension": ".py",
      "mimetype": "text/x-python",
      "name": "python",
      "nbconvert_exporter": "python",
      "pygments_lexer": "ipython3",
      "version": "3.8"
    }
  },
  "nbformat_minor": 4,
  "nbformat": 4,
  "cells": [
    {
      "cell_type": "code",
      "source": "salario_hora = 20\nhora_trabalhadas = 40\nsalario_semanal_bruto = salario_hora * hora_trabalhadas\ndesconto = salario_semanal_bruto - (salario_semanal_bruto * 0.10)\n\nprint (f\"o salario bruto é: {salario_hora * hora_trabalhadas}\")\nprint (f\"o salario liquido é: {desconto}\")\nprint (f\"o salario sindicato é: { desconto - (desconto * 0.05)}\")",
      "metadata": {
        "trusted": true
      },
      "outputs": [
        {
          "name": "stdout",
          "text": "o salario bruto é: 800\no salario liquido é: 720.0\no salario sindicato é: 684.0\n",
          "output_type": "stream"
        }
      ],
      "execution_count": 26
    },
    {
      "cell_type": "code",
      "source": "salario_hora = 20\nhora_trabalhadas = 40\nsalario_semanal_bruto = salario_hora * hora_trabalhadas\ndesconto = (salario_semanal_bruto * 0.10)\nsindical = (salario_semanal_bruto * 0.05)\n\nprint (f\"o salario bruto é: {salario_hora * hora_trabalhadas}\")\nprint (f\"o salario desc inss é: {desconto}\")\nprint (f\"o salario sindical é: {sindical}\")\nprint (f\"salario semanal bruto menos descontos { salario_semanal_bruto - (desconto + sindical)}\")",
      "metadata": {
        "trusted": true
      },
      "outputs": [
        {
          "name": "stdout",
          "text": "o salario bruto é: 800\no salario desc inss é: 80.0\no salario sindical é: 40.0\nsalario semanal bruto menos descontos 680.0\n",
          "output_type": "stream"
        }
      ],
      "execution_count": 27
    },
    {
      "cell_type": "code",
      "source": "salario_hora = 20\nhora_trabalhadas = 40\nsalario_semanal_bruto = salario_hora * hora_trabalhadas\ndesconto = (salario_semanal_bruto * 0.10)\nsindical = (salario_semanal_bruto * 0.05)\n\nprint (f\"o salario bruto é: {salario_hora * hora_trabalhadas}\")\nprint (f\"salario semanal bruto menos descontos { salario_semanal_bruto - (desconto + sindical)}\")",
      "metadata": {
        "trusted": true
      },
      "outputs": [
        {
          "name": "stdout",
          "text": "o salario bruto é: 800\nsalario semanal bruto menos descontos 680.0\n",
          "output_type": "stream"
        }
      ],
      "execution_count": 29
    },
    {
      "cell_type": "code",
      "source": "brl = 0.69\nyuan = 1\nvalor_bolso = brl * yuan\n\nprint (valor_bolso)",
      "metadata": {
        "trusted": true
      },
      "outputs": [
        {
          "name": "stdout",
          "text": "0.69\n",
          "output_type": "stream"
        }
      ],
      "execution_count": 32
    },
    {
      "cell_type": "code",
      "source": "distancia = 42.195\ntempo = 3\nv_media = distancia * tempo\n\nprint (f\"velocidade media é = {v_media}\")\n\nnew_distancia = distancia / 1000 \nnew_tempo = tempo / 3600\nnew_velocidade = new_distancia * new_tempo\n\nprint (f\"velocidade media em MS é: {new_velocidade}\")\n\n",
      "metadata": {
        "trusted": true
      },
      "outputs": [
        {
          "name": "stdout",
          "text": "velocidade media é = 126.58500000000001\nvelocidade media em MS é: 3.516250000000001e-05\n",
          "output_type": "stream"
        }
      ],
      "execution_count": 40
    },
    {
      "cell_type": "code",
      "source": "",
      "metadata": {
        "trusted": true
      },
      "outputs": [],
      "execution_count": null
    }
  ]
}