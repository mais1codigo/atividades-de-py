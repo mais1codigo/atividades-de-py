{
  "metadata": {
    "kernelspec": {
      "name": "python",
      "display_name": "Python (Pyodide)",
      "language": "python"
    },
    "language_info": {
      "codemirror_mode": {
        "name": "python",
        "version": 3
      },
      "file_extension": ".py",
      "mimetype": "text/x-python",
      "name": "python",
      "nbconvert_exporter": "python",
      "pygments_lexer": "ipython3",
      "version": "3.8"
    }
  },
  "nbformat_minor": 4,
  "nbformat": 4,
  "cells": [
    {
      "cell_type": "code",
      "source": "comprimento = 25\nlargura = 10\npreco_m2 = 49.962\n\n\narea_m2 = comprimento * largura\npreco_total = preco_m2 * area_m2\n\nprint (f\" total de area em m² é: {area_m2} e o total do preço é: {preco_total}\")",
      "metadata": {
        "trusted": true
      },
      "outputs": [
        {
          "name": "stdout",
          "text": " total de area em m² é: 250 e o total do preço é: 12490.5\n",
          "output_type": "stream"
        }
      ],
      "execution_count": 1
    },
    {
      "cell_type": "code",
      "source": "f = 86\nc = (f - 32) * (5/9)\n\nprint (f\"{f} gras fareheit em graus celcius é {c}\")",
      "metadata": {
        "trusted": true
      },
      "outputs": [
        {
          "name": "stdout",
          "text": "86 gras fareheit em graus celcius é 30.0\n",
          "output_type": "stream"
        }
      ],
      "execution_count": 2
    },
    {
      "cell_type": "code",
      "source": "nome_produto1 = input(\"Nome do produto 1: \")\npreco_unitario1 = float(input(\"Preço unitário do produto 1:\"))\nquantidade1 = int(input(\"Quantidade do produto 1:\"))\n\nnome_produto2 = input(\"Nome do produto 2:\")\npreco_unitario2 = float(input(\"Preço unitário do produto 2:\"))\nquantidade2 = int(input(\"Quantidade do produto 2:\"))\n\nnome_produto3 = input(\"Nome do produto 3:\")\npreco_unitario3 = float(input(\"Preço unitário do produto 3:\"))\nquantidade3 = int(input(\"Quantidade do produto 3:\"))\n\ntotal = (preco_unitario1 * quantidade1) + (preco_unitario2 * quantidade2) + (preco_unitario3 * quantidade3)\n\nprint(\"Total: R$ {:,.2f}\".format(total))",
      "metadata": {
        "trusted": true
      },
      "outputs": [
        {
          "ename": "<class 'TypeError'>",
          "evalue": "float() argument must be a string or a real number, not 'PyodideFuture'",
          "traceback": [
            "\u001b[0;31m---------------------------------------------------------------------------\u001b[0m",
            "\u001b[0;31mTypeError\u001b[0m                                 Traceback (most recent call last)",
            "Cell \u001b[0;32mIn[7], line 2\u001b[0m\n\u001b[1;32m      1\u001b[0m nome_produto1 \u001b[38;5;241m=\u001b[39m \u001b[38;5;28minput\u001b[39m(\u001b[38;5;124m\"\u001b[39m\u001b[38;5;124mNome do produto 1: \u001b[39m\u001b[38;5;124m\"\u001b[39m)\n\u001b[0;32m----> 2\u001b[0m preco_unitario1 \u001b[38;5;241m=\u001b[39m \u001b[38;5;28;43mfloat\u001b[39;49m\u001b[43m(\u001b[49m\u001b[38;5;28;43minput\u001b[39;49m\u001b[43m(\u001b[49m\u001b[38;5;124;43m\"\u001b[39;49m\u001b[38;5;124;43mPreço unitário do produto 1:\u001b[39;49m\u001b[38;5;124;43m\"\u001b[39;49m\u001b[43m)\u001b[49m\u001b[43m)\u001b[49m\n\u001b[1;32m      3\u001b[0m quantidade1 \u001b[38;5;241m=\u001b[39m \u001b[38;5;28mint\u001b[39m(\u001b[38;5;28minput\u001b[39m(\u001b[38;5;124m\"\u001b[39m\u001b[38;5;124mQuantidade do produto 1:\u001b[39m\u001b[38;5;124m\"\u001b[39m))\n\u001b[1;32m      5\u001b[0m nome_produto2 \u001b[38;5;241m=\u001b[39m \u001b[38;5;28minput\u001b[39m(\u001b[38;5;124m\"\u001b[39m\u001b[38;5;124mNome do produto 2:\u001b[39m\u001b[38;5;124m\"\u001b[39m)\n",
            "\u001b[0;31mTypeError\u001b[0m: float() argument must be a string or a real number, not 'PyodideFuture'"
          ],
          "output_type": "error"
        }
      ],
      "execution_count": 7
    },
    {
      "cell_type": "code",
      "source": "valor = int(input(\"Digite o valor em reais: \"))\n\n\nnotas = [100, 50, 20, 10, 5, 2, 1]\n\n\nfor nota in notas:\n    quantidade = valor // nota\n    print(quantidade, \"nota(s) de R$ {:.2f}\".format(nota))\n    valor %= nota",
      "metadata": {
        "trusted": true
      },
      "outputs": [],
      "execution_count": null
    },
    {
      "cell_type": "code",
      "source": "",
      "metadata": {
        "trusted": true
      },
      "outputs": [],
      "execution_count": null
    }
  ]
}